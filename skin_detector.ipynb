{
 "cells": [
  {
   "cell_type": "markdown",
   "id": "335271d7-9b56-4bf6-8c04-7dcbb1db421b",
   "metadata": {},
   "source": [
    "<h1>Skin detector</h1>"
   ]
  },
  {
   "cell_type": "code",
   "execution_count": 12,
   "id": "1d68ff14-8f44-4141-bfd9-3a912dda3391",
   "metadata": {},
   "outputs": [],
   "source": [
    "import numpy as np\n",
    "import pandas as pd\n",
    "import matplotlib.pyplot as plt\n",
    "from PIL import Image, ImageOps\n",
    "import os\n",
    "\n",
    "TRAIN_PATH = '../datasets/skin_cancer/train'\n",
    "TEST_PATH = '../datasets/skin_cancer/test'"
   ]
  },
  {
   "cell_type": "markdown",
   "id": "ceef440a-39d6-4bf5-8a2c-77dba3ebd8cc",
   "metadata": {},
   "source": [
    "\"The data consists of two folders with each <strong>1800</strong> pictures <strong>(224x224)</strong> of the two types of moles.\"</br>\n",
    "<strong>The goal is to predict if a skin spot is either benign or malignant.</strong>"
   ]
  },
  {
   "cell_type": "code",
   "execution_count": 13,
   "id": "31f8b817-6672-45ad-a3a8-227d714a80f7",
   "metadata": {
    "tags": []
   },
   "outputs": [],
   "source": [
    "X_train_benign = np.empty(shape=(len(os.listdir(f'{TRAIN_PATH}/benign/')), 224, 224)) #1440 images of 224x224 pixels in RGB but for computation reason we will use grayscale\n",
    "y_train_benign = []\n",
    "\n",
    "for i, image_file in enumerate(os.listdir(f'{TRAIN_PATH}/benign/')):\n",
    "    im = ImageOps.grayscale(Image.open(f'{TRAIN_PATH}/benign/{image_file}')) #from (224, 224, 3) to (224, 224)\n",
    "    X_train_benign[i] = np.array(im)\n",
    "    y_train_benign.append(0)\n",
    "\n",
    "y_train_benign = np.array(y_train_benign)"
   ]
  },
  {
   "cell_type": "code",
   "execution_count": 14,
   "id": "fe44b50a-93e7-486d-b0cd-b27d371df3b3",
   "metadata": {},
   "outputs": [],
   "source": [
    "X_train_malign = np.empty(shape=(len(os.listdir(f'{TRAIN_PATH}/malignant/')), 224, 224))\n",
    "y_train_malign = []\n",
    "\n",
    "for i, image_file in enumerate(os.listdir(f'{TRAIN_PATH}/malignant/')):\n",
    "    im = ImageOps.grayscale(Image.open(f'{TRAIN_PATH}/malignant/{image_file}'))\n",
    "    X_train_malign[i] = np.array(im)\n",
    "    y_train_malign.append(1)\n",
    "\n",
    "y_train_malign = np.array(y_train_malign)"
   ]
  },
  {
   "cell_type": "code",
   "execution_count": 15,
   "id": "2656ad6b-1d8f-4e21-b8ee-f37987308ac0",
   "metadata": {},
   "outputs": [
    {
     "name": "stdout",
     "output_type": "stream",
     "text": [
      "(1440, 224, 224) (1440,)\n",
      "(1197, 224, 224) (1197,)\n",
      "(2637, 224, 224)\n"
     ]
    }
   ],
   "source": [
    "print(X_train_benign.shape, y_train_benign.shape)\n",
    "print(X_train_malign.shape, y_train_malign.shape)\n",
    "\n",
    "X_train = np.concatenate((X_train_benign, X_train_malign))\n",
    "print(X_train.shape)"
   ]
  },
  {
   "cell_type": "code",
   "execution_count": null,
   "id": "b187cf05-f8b6-4921-8549-565d03f5d9e7",
   "metadata": {},
   "outputs": [],
   "source": []
  },
  {
   "cell_type": "code",
   "execution_count": null,
   "id": "f0aef971-c7a0-4213-9330-93fb9bb7eb14",
   "metadata": {},
   "outputs": [],
   "source": []
  }
 ],
 "metadata": {
  "kernelspec": {
   "display_name": "Python 3 (ipykernel)",
   "language": "python",
   "name": "python3"
  },
  "language_info": {
   "codemirror_mode": {
    "name": "ipython",
    "version": 3
   },
   "file_extension": ".py",
   "mimetype": "text/x-python",
   "name": "python",
   "nbconvert_exporter": "python",
   "pygments_lexer": "ipython3",
   "version": "3.10.4"
  }
 },
 "nbformat": 4,
 "nbformat_minor": 5
}
