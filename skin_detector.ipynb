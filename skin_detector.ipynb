{
 "cells": [
  {
   "cell_type": "markdown",
   "id": "335271d7-9b56-4bf6-8c04-7dcbb1db421b",
   "metadata": {},
   "source": [
    "<h1>Skin detector</h1>"
   ]
  },
  {
   "cell_type": "code",
   "execution_count": 1,
   "id": "1d68ff14-8f44-4141-bfd9-3a912dda3391",
   "metadata": {},
   "outputs": [
    {
     "name": "stdout",
     "output_type": "stream",
     "text": [
      "tensorflow\n"
     ]
    }
   ],
   "source": [
    "import numpy as np\n",
    "import pandas as pd\n",
    "import matplotlib.pyplot as plt\n",
    "from PIL import Image, ImageOps\n",
    "from tensorflow.keras import backend as K\n",
    "from keras.utils import np_utils\n",
    "import os\n",
    "\n",
    "TRAIN_PATH = '../datasets/skin_cancer/train'\n",
    "TEST_PATH = '../datasets/skin_cancer/test'\n",
    "#tensorflow = channel last\n",
    "#theano = channel first\n",
    "print(K.backend())\n",
    "K.set_image_data_format(data_format='channels_last')"
   ]
  },
  {
   "cell_type": "markdown",
   "id": "ceef440a-39d6-4bf5-8a2c-77dba3ebd8cc",
   "metadata": {},
   "source": [
    "\"The data consists of two folders with each <strong>1800</strong> pictures <strong>(224x224)</strong> of the two types of moles.\"</br>\n",
    "<strong>The goal is to predict if a skin spot is either benign or malignant.</strong>"
   ]
  },
  {
   "cell_type": "markdown",
   "id": "36e8fd78-31d6-4f9d-86d1-71ac52b734af",
   "metadata": {},
   "source": [
    "<h2>Building datasets</h2>"
   ]
  },
  {
   "cell_type": "code",
   "execution_count": 2,
   "id": "f203e175-d479-40b7-855f-2f32a14863aa",
   "metadata": {},
   "outputs": [],
   "source": [
    "def create_array(train_test_path, benign_malign_path, width, height):\n",
    "    complete_path = f'{train_test_path}/{benign_malign_path}/'\n",
    "    X = np.empty(shape=(len(os.listdir(complete_path)), width, height)) #1440 images of 224x224 pixels in RGB but for computation reason we will use grayscale\n",
    "    for i, image_file in enumerate(os.listdir(complete_path)):\n",
    "        im = ImageOps.grayscale(Image.open(f'{complete_path}{image_file}')) #from (224, 224, 3) to (224, 224)\n",
    "        X[i] = np.array(im)\n",
    "    if benign_malign_path == 'benign':\n",
    "        y = np.zeros(shape=X.shape[0])\n",
    "    elif benign_malign_path == 'malignant':\n",
    "        y = np.ones(shape=X.shape[0])\n",
    "    else:\n",
    "        print('benign_malign_path must be \"benign\" or \"malign\"')\n",
    "    return X, y\n",
    "\n",
    "def shuffle_in_unison(a, b):\n",
    "    \"\"\"\n",
    "        Shuffle two array in the same order (see: https://stackoverflow.com/questions/4601373/better-way-to-shuffle-two-numpy-arrays-in-unison)\n",
    "    \"\"\"\n",
    "    rng_state = np.random.get_state()\n",
    "    np.random.shuffle(a)\n",
    "    np.random.set_state(rng_state)\n",
    "    np.random.shuffle(b)"
   ]
  },
  {
   "cell_type": "code",
   "execution_count": 3,
   "id": "8fae2e26-7457-4e12-b999-de5356b49c53",
   "metadata": {},
   "outputs": [],
   "source": [
    "X_train_benign, y_train_benign = create_array(train_test_path=TRAIN_PATH, benign_malign_path='benign', width=224, height=224)\n",
    "X_train_malign, y_train_malign = create_array(train_test_path=TRAIN_PATH, benign_malign_path='malignant', width=224, height=224)"
   ]
  },
  {
   "cell_type": "code",
   "execution_count": 4,
   "id": "cc81721f-563b-4b68-93e6-bc7da7622061",
   "metadata": {},
   "outputs": [],
   "source": [
    "X_test_benign, y_test_benign = create_array(train_test_path=TEST_PATH, benign_malign_path='benign', width=224, height=224)\n",
    "X_test_malign, y_test_malign = create_array(train_test_path=TEST_PATH, benign_malign_path='malignant', width=224, height=224)"
   ]
  },
  {
   "cell_type": "code",
   "execution_count": 5,
   "id": "2656ad6b-1d8f-4e21-b8ee-f37987308ac0",
   "metadata": {},
   "outputs": [
    {
     "name": "stdout",
     "output_type": "stream",
     "text": [
      "(1440, 224, 224) (1440,)\n",
      "(1197, 224, 224) (1197,)\n",
      "(2637, 224, 224) (2637,)\n"
     ]
    }
   ],
   "source": [
    "print(X_train_benign.shape, y_train_benign.shape)\n",
    "print(X_train_malign.shape, y_train_malign.shape)\n",
    "\n",
    "X_train = np.concatenate((X_train_benign, X_train_malign), axis=0)\n",
    "y_train = np.concatenate((y_train_benign, y_train_malign), axis=0)\n",
    "print(X_train.shape, y_train.shape)"
   ]
  },
  {
   "cell_type": "code",
   "execution_count": 6,
   "id": "9b3b84b4-1d8d-41a2-93c4-d97332a7d733",
   "metadata": {},
   "outputs": [
    {
     "name": "stdout",
     "output_type": "stream",
     "text": [
      "(360, 224, 224) (360,)\n",
      "(300, 224, 224) (300,)\n",
      "(660, 224, 224) (660,)\n"
     ]
    }
   ],
   "source": [
    "print(X_test_benign.shape, y_test_benign.shape)\n",
    "print(X_test_malign.shape, y_test_malign.shape)\n",
    "\n",
    "X_test = np.concatenate((X_test_benign, X_test_malign), axis=0)\n",
    "y_test = np.concatenate((y_test_benign, y_test_malign), axis=0)\n",
    "print(X_test.shape, y_test.shape)"
   ]
  },
  {
   "cell_type": "code",
   "execution_count": 7,
   "id": "dd9ec5f5-14c7-4f31-a2a9-9d1c2b28644b",
   "metadata": {},
   "outputs": [],
   "source": [
    "shuffle_in_unison(X_train, y_train)\n",
    "shuffle_in_unison(X_test, y_test)"
   ]
  },
  {
   "cell_type": "markdown",
   "id": "2f8b66bf-3996-454c-989e-b4575b7ac3c5",
   "metadata": {},
   "source": [
    "<h2>Processing data</h2>"
   ]
  },
  {
   "cell_type": "code",
   "execution_count": 8,
   "id": "d8a10d93-bf5d-4a0f-adbf-da07d7d201c1",
   "metadata": {},
   "outputs": [],
   "source": [
    "def resize(X, y):\n",
    "    X = X[:, :, :, np.newaxis]\n",
    "    y = np.reshape(y, newshape=(y.shape[0], 1))\n",
    "    return X, y\n",
    "\n",
    "def rescale(X, y):\n",
    "    X = X.astype('float32')\n",
    "    return X/255, np_utils.to_categorical(y)"
   ]
  },
  {
   "cell_type": "markdown",
   "id": "3cc2ad78-120a-479b-a6b0-1bc9e601eab2",
   "metadata": {},
   "source": [
    "<h3>Resizing :</h3>"
   ]
  },
  {
   "cell_type": "code",
   "execution_count": 9,
   "id": "d3b13765-efbe-47da-a84f-e169be914804",
   "metadata": {},
   "outputs": [
    {
     "name": "stdout",
     "output_type": "stream",
     "text": [
      "(2637, 224, 224, 1) (660, 224, 224, 1)\n",
      "(2637, 1) (660, 1)\n"
     ]
    }
   ],
   "source": [
    "#we need a n * (width, height, 1) shape (channels_last)\n",
    "X_train, y_train = resize(X_train, y_train)\n",
    "X_test, y_test = resize(X_test, y_test)\n",
    "\n",
    "print(X_train.shape, X_test.shape)\n",
    "print(y_train.shape, y_test.shape)"
   ]
  },
  {
   "cell_type": "markdown",
   "id": "f785dbe6-0378-4769-8189-7992ba1192fc",
   "metadata": {},
   "source": [
    "<h3>Rescaling :</h3>"
   ]
  },
  {
   "cell_type": "code",
   "execution_count": null,
   "id": "caa268cc-a0e2-4777-a682-c89852629202",
   "metadata": {},
   "outputs": [],
   "source": [
    "X_train, y_train = rescale(X_train, y_train)"
   ]
  },
  {
   "cell_type": "code",
   "execution_count": 10,
   "id": "23629793-0a44-4a8f-91fe-1d68c2c954ce",
   "metadata": {},
   "outputs": [],
   "source": [
    "X_test, y_test = rescale(X_test, y_test)"
   ]
  },
  {
   "cell_type": "code",
   "execution_count": 11,
   "id": "a9a10e0d-ffad-4ca0-90d3-7130607130d4",
   "metadata": {},
   "outputs": [],
   "source": [
    "X_train = X_train.astype(\"float32\")\n",
    "X_train /= 255\n",
    "y_train = np_utils.to_categorical(y_train)"
   ]
  },
  {
   "cell_type": "markdown",
   "id": "91d04794-ca3c-4983-998c-d15fa5a52b0e",
   "metadata": {},
   "source": [
    "<h2>Modelling :</h2>"
   ]
  },
  {
   "cell_type": "code",
   "execution_count": 12,
   "id": "8854e322-0f69-48f7-8841-59fd4947023f",
   "metadata": {},
   "outputs": [
    {
     "data": {
      "text/plain": [
       "<matplotlib.image.AxesImage at 0x7ff991c5f4f0>"
      ]
     },
     "execution_count": 12,
     "metadata": {},
     "output_type": "execute_result"
    },
    {
     "data": {
      "image/png": "[encoded data removed]",
      "text/plain": [
       "<Figure size 432x288 with 1 Axes>"
      ]
     },
     "metadata": {
      "needs_background": "light"
     },
     "output_type": "display_data"
    }
   ],
   "source": [
    "plt.imshow(X_test[0], cmap='gray')"
   ]
  },
  {
   "cell_type": "code",
   "execution_count": 13,
   "id": "77e40dbd-3b96-4da5-87c5-02c1e1b4a97d",
   "metadata": {},
   "outputs": [],
   "source": [
    "from keras.layers.convolutional import Conv2D\n",
    "from keras.layers.pooling import MaxPooling2D\n",
    "from keras.layers.core import Dense, Dropout, Flatten, Activation\n",
    "from keras.models import Sequential\n",
    "from tensorflow.keras.optimizers import SGD, RMSprop, Adam\n",
    "from keras.callbacks import EarlyStopping\n",
    "\n",
    "OPTIM = SGD()\n",
    "BATCH_SIZE = 32\n",
    "VALIDATION_SPLIT = 0.2"
   ]
  },
  {
   "cell_type": "code",
   "execution_count": 14,
   "id": "d55c1b9e-4b30-480f-aa28-70faa836ef81",
   "metadata": {},
   "outputs": [],
   "source": [
    "class LeNet :\n",
    "    def __init__(self, input_shape, num_class):\n",
    "        self.model = Sequential()\n",
    "        self.input_shape = input_shape\n",
    "        self.num_class = num_class\n",
    "        \n",
    "    def build(self):\n",
    "        self.model.add(Conv2D(filters=20, kernel_size=(7, 7), padding='same', input_shape=self.input_shape))\n",
    "        self.model.add(Activation(activation=\"relu\"))\n",
    "        self.model.add(MaxPooling2D(pool_size=(4, 4), strides=(4, 4)))\n",
    "        self.model.add(Dropout(0.3))\n",
    "        \n",
    "        self.model.add(Conv2D(filters=30, kernel_size=(7, 7), padding='same'))\n",
    "        self.model.add(Activation(activation='relu'))\n",
    "        self.model.add(MaxPooling2D(pool_size=(4, 4), strides=(4, 4)))\n",
    "        self.model.add(Dropout(0.4))\n",
    "        \n",
    "        self.model.add(Flatten())\n",
    "        self.model.add(Dense(units=100, activation='relu'))\n",
    "        self.model.add(Dense(units=self.num_class, activation='softmax'))\n",
    "        \n",
    "        return self.model"
   ]
  },
  {
   "cell_type": "code",
   "execution_count": 15,
   "id": "ec0613b9-730d-415f-9290-228149a22041",
   "metadata": {},
   "outputs": [
    {
     "name": "stderr",
     "output_type": "stream",
     "text": [
      "2022-06-05 03:02:33.397442: I tensorflow/core/platform/cpu_feature_guard.cc:151] This TensorFlow binary is optimized with oneAPI Deep Neural Network Library (oneDNN) to use the following CPU instructions in performance-critical operations:  SSE4.1 SSE4.2 AVX AVX2 AVX512F FMA\n",
      "To enable them in other operations, rebuild TensorFlow with the appropriate compiler flags.\n"
     ]
    }
   ],
   "source": [
    "model = LeNet(input_shape=(224, 224, 1), num_class=2)\n",
    "model = model.build()"
   ]
  },
  {
   "cell_type": "code",
   "execution_count": 16,
   "id": "dc0fcc97-3cd1-4246-8746-0f6ddb473c3f",
   "metadata": {},
   "outputs": [
    {
     "name": "stdout",
     "output_type": "stream",
     "text": [
      "Model: \"sequential\"\n",
      "_________________________________________________________________\n",
      " Layer (type)                Output Shape              Param #   \n",
      "=================================================================\n",
      " conv2d (Conv2D)             (None, 224, 224, 20)      1000      \n",
      "                                                                 \n",
      " activation (Activation)     (None, 224, 224, 20)      0         \n",
      "                                                                 \n",
      " max_pooling2d (MaxPooling2D  (None, 56, 56, 20)       0         \n",
      " )                                                               \n",
      "                                                                 \n",
      " dropout (Dropout)           (None, 56, 56, 20)        0         \n",
      "                                                                 \n",
      " conv2d_1 (Conv2D)           (None, 56, 56, 30)        29430     \n",
      "                                                                 \n",
      " activation_1 (Activation)   (None, 56, 56, 30)        0         \n",
      "                                                                 \n",
      " max_pooling2d_1 (MaxPooling  (None, 14, 14, 30)       0         \n",
      " 2D)                                                             \n",
      "                                                                 \n",
      " dropout_1 (Dropout)         (None, 14, 14, 30)        0         \n",
      "                                                                 \n",
      " flatten (Flatten)           (None, 5880)              0         \n",
      "                                                                 \n",
      " dense (Dense)               (None, 100)               588100    \n",
      "                                                                 \n",
      " dense_1 (Dense)             (None, 2)                 202       \n",
      "                                                                 \n",
      "=================================================================\n",
      "Total params: 618,732\n",
      "Trainable params: 618,732\n",
      "Non-trainable params: 0\n",
      "_________________________________________________________________\n"
     ]
    }
   ],
   "source": [
    "model.summary()"
   ]
  },
  {
   "cell_type": "code",
   "execution_count": 17,
   "id": "039ebb68-8265-4b33-91d5-3c739a69837c",
   "metadata": {},
   "outputs": [],
   "source": [
    "model.compile(optimizer=OPTIM, loss='binary_crossentropy', metrics=['accuracy'])"
   ]
  },
  {
   "cell_type": "code",
   "execution_count": 18,
   "id": "429a331e-2085-41c5-a5b7-0cb20261ef64",
   "metadata": {},
   "outputs": [],
   "source": [
    "early_stop = EarlyStopping(monitor='val_loss', patience=3)"
   ]
  },
  {
   "cell_type": "code",
   "execution_count": 19,
   "id": "34579a65-3c25-4821-bca6-dc6af3280115",
   "metadata": {},
   "outputs": [
    {
     "name": "stderr",
     "output_type": "stream",
     "text": [
      "2022-06-05 03:02:39.878253: W tensorflow/core/framework/cpu_allocator_impl.cc:82] Allocation of 423284736 exceeds 10% of free system memory.\n"
     ]
    },
    {
     "name": "stdout",
     "output_type": "stream",
     "text": [
      "Epoch 1/10\n"
     ]
    },
    {
     "name": "stderr",
     "output_type": "stream",
     "text": [
      "2022-06-05 03:02:40.660614: W tensorflow/core/framework/cpu_allocator_impl.cc:82] Allocation of 128450560 exceeds 10% of free system memory.\n",
      "2022-06-05 03:02:41.317114: W tensorflow/core/framework/cpu_allocator_impl.cc:82] Allocation of 128450560 exceeds 10% of free system memory.\n"
     ]
    },
    {
     "name": "stdout",
     "output_type": "stream",
     "text": [
      " 1/66 [..............................] - ETA: 1:36 - loss: 0.7575 - accuracy: 0.3125"
     ]
    },
    {
     "name": "stderr",
     "output_type": "stream",
     "text": [
      "2022-06-05 03:02:41.840718: W tensorflow/core/framework/cpu_allocator_impl.cc:82] Allocation of 128450560 exceeds 10% of free system memory.\n",
      "2022-06-05 03:02:42.289761: W tensorflow/core/framework/cpu_allocator_impl.cc:82] Allocation of 128450560 exceeds 10% of free system memory.\n"
     ]
    },
    {
     "name": "stdout",
     "output_type": "stream",
     "text": [
      "66/66 [==============================] - 57s 859ms/step - loss: 0.6929 - accuracy: 0.5334 - val_loss: 0.6903 - val_accuracy: 0.5379\n",
      "Epoch 2/10\n",
      "66/66 [==============================] - 63s 947ms/step - loss: 0.6892 - accuracy: 0.5467 - val_loss: 0.6894 - val_accuracy: 0.5379\n",
      "Epoch 3/10\n",
      "66/66 [==============================] - 60s 903ms/step - loss: 0.6873 - accuracy: 0.5486 - val_loss: 0.6892 - val_accuracy: 0.5379\n",
      "Epoch 4/10\n",
      "66/66 [==============================] - 58s 876ms/step - loss: 0.6865 - accuracy: 0.5477 - val_loss: 0.6889 - val_accuracy: 0.5379\n",
      "Epoch 5/10\n",
      "66/66 [==============================] - 61s 926ms/step - loss: 0.6865 - accuracy: 0.5472 - val_loss: 0.6893 - val_accuracy: 0.5341\n",
      "Epoch 6/10\n",
      "66/66 [==============================] - 57s 861ms/step - loss: 0.6839 - accuracy: 0.5543 - val_loss: 0.6876 - val_accuracy: 0.5341\n",
      "Epoch 7/10\n",
      "66/66 [==============================] - 58s 879ms/step - loss: 0.6837 - accuracy: 0.5571 - val_loss: 0.6874 - val_accuracy: 0.5341\n",
      "Epoch 8/10\n",
      "66/66 [==============================] - 57s 868ms/step - loss: 0.6840 - accuracy: 0.5624 - val_loss: 0.6873 - val_accuracy: 0.5360\n",
      "Epoch 9/10\n",
      "66/66 [==============================] - 58s 872ms/step - loss: 0.6822 - accuracy: 0.5576 - val_loss: 0.6862 - val_accuracy: 0.5379\n",
      "Epoch 10/10\n",
      "66/66 [==============================] - 60s 907ms/step - loss: 0.6808 - accuracy: 0.5571 - val_loss: 0.6883 - val_accuracy: 0.6212\n"
     ]
    }
   ],
   "source": [
    "history = model.fit(x=X_train, y=y_train, batch_size=BATCH_SIZE, epochs=10, callbacks=[early_stop], validation_split=VALIDATION_SPLIT)"
   ]
  },
  {
   "cell_type": "code",
   "execution_count": 20,
   "id": "38889fc3-a739-483c-8b77-928040943f97",
   "metadata": {},
   "outputs": [
    {
     "data": {
      "text/plain": [
       "<matplotlib.legend.Legend at 0x7ff9547baec0>"
      ]
     },
     "execution_count": 20,
     "metadata": {},
     "output_type": "execute_result"
    },
    {
     "data": {
      "image/png": "[encoded data removed]",
      "text/plain": [
       "<Figure size 1440x576 with 1 Axes>"
      ]
     },
     "metadata": {
      "needs_background": "light"
     },
     "output_type": "display_data"
    }
   ],
   "source": [
    "figure = plt.figure(figsize=(20, 8))\n",
    "ax = figure.add_subplot(1, 1, 1)\n",
    "ax.plot(history.history['val_loss'], color='red', ls='-', label='val_loss')\n",
    "ax.plot(history.history['loss'], color='red', ls='-.', label='loss')\n",
    "\n",
    "ax.plot(history.history['val_accuracy'], color='green', ls='-', label='val_accuracy')\n",
    "ax.plot(history.history['accuracy'], color='green', ls='-.', label='accuracy')\n",
    "\n",
    "ax.set_xlabel('epochs')\n",
    "ax.set_xticks(range(0, 10))\n",
    "ax.set_ylim(0.0, 1.0, 0.1)\n",
    "plt.legend()"
   ]
  },
  {
   "cell_type": "code",
   "execution_count": 22,
   "id": "e87b4313-9c21-4878-8273-050b02f7cad4",
   "metadata": {},
   "outputs": [
    {
     "name": "stdout",
     "output_type": "stream",
     "text": [
      "21/21 [==============================] - 5s 246ms/step - loss: 0.6891 - accuracy: 0.6091\n"
     ]
    }
   ],
   "source": [
    "score = model.evaluate(x=X_test, y=y_test)"
   ]
  },
  {
   "cell_type": "code",
   "execution_count": 25,
   "id": "8b96539b-bedc-472e-a17e-08d37887bcde",
   "metadata": {},
   "outputs": [
    {
     "name": "stdout",
     "output_type": "stream",
     "text": [
      "Test loss : 0.69\n",
      "Test accuracy : 60.91%\n"
     ]
    }
   ],
   "source": [
    "print(f'Test loss : {score[0]:.2f}')\n",
    "print(f'Test accuracy : {score[1]*100:.2f}%')"
   ]
  },
  {
   "cell_type": "code",
   "execution_count": 27,
   "id": "ff9d6787-ed8e-437c-89ea-a08b7437e657",
   "metadata": {},
   "outputs": [],
   "source": [
    "#saving the architecture\n",
    "model_json = model.to_json()\n",
    "with open('models/skin1.json', 'w') as filin:\n",
    "    filin.write(model_json)\n",
    "    \n",
    "#saving the weights\n",
    "model.save_weights(filepath='models/skin1.h5')"
   ]
  },
  {
   "cell_type": "code",
   "execution_count": null,
   "id": "aada04a8-eebf-4399-91a2-0a88b755f9a7",
   "metadata": {},
   "outputs": [],
   "source": []
  }
 ],
 "metadata": {
  "kernelspec": {
   "display_name": "Python 3 (ipykernel)",
   "language": "python",
   "name": "python3"
  },
  "language_info": {
   "codemirror_mode": {
    "name": "ipython",
    "version": 3
   },
   "file_extension": ".py",
   "mimetype": "text/x-python",
   "name": "python",
   "nbconvert_exporter": "python",
   "pygments_lexer": "ipython3",
   "version": "3.10.4"
  }
 },
 "nbformat": 4,
 "nbformat_minor": 5
}
